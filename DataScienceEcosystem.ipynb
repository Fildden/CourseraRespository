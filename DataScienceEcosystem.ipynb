{
 "cells": [
  {
   "cell_type": "markdown",
   "id": "af43cca7-2ade-4435-9bb0-4c5220cc0452",
   "metadata": {},
   "source": [
    "#Data Science Tools and Ecosystem"
   ]
  },
  {
   "cell_type": "markdown",
   "id": "fe7fe5d5-b95d-46b8-ba69-f799e1a2057e",
   "metadata": {},
   "source": [
    "In this notebook, Data Science Tools and Ecosystem are summarized."
   ]
  },
  {
   "cell_type": "markdown",
   "id": "f0aab585-1bee-42d0-84cb-1d8d82222676",
   "metadata": {},
   "source": [
    "Some of the popular languages that Data Scientists use are:\n",
    "1.Python\n",
    "2.R\n",
    "3.JavaScript\n"
   ]
  },
  {
   "cell_type": "markdown",
   "id": "4786a428-51ca-43c1-a762-5eb098f7578c",
   "metadata": {},
   "source": [
    "Some of the commonly used libraries used by Data Scientists include:\n",
    "1.Pandas\n",
    "2.NumPy\n",
    "3.Apache Spark"
   ]
  },
  {
   "cell_type": "markdown",
   "id": "44af6d87-6d6d-40be-8bb9-790efb451d2d",
   "metadata": {},
   "source": [
    "| Data Science Tools                |\n",
    "|-----------------------------------|\n",
    "| Jupyter Notebook                  |\n",
    "| RStudio                           |\n",
    "| Apache Zeppelin                   |"
   ]
  },
  {
   "cell_type": "markdown",
   "id": "917f46a4-e12a-4c2a-9875-78e382342ffe",
   "metadata": {},
   "source": [
    "### Below are a few examples of evaluating arithmetic expressions in Python.to `4`\r\n",
    "\r\n"
   ]
  },
  {
   "cell_type": "code",
   "execution_count": 16,
   "id": "373b401e-57eb-477c-be3a-a13f3e3bb7ae",
   "metadata": {},
   "outputs": [
    {
     "data": {
      "text/plain": [
       "17"
      ]
     },
     "execution_count": 16,
     "metadata": {},
     "output_type": "execute_result"
    }
   ],
   "source": [
    "# This a simple arithmetic expression to mutiply then add integers\n",
    "(3*4)+5"
   ]
  },
  {
   "cell_type": "code",
   "execution_count": 18,
   "id": "b0fa0e7e-4853-4224-9da3-cba5090caff1",
   "metadata": {},
   "outputs": [
    {
     "data": {
      "text/plain": [
       "3.3333333333333335"
      ]
     },
     "execution_count": 18,
     "metadata": {},
     "output_type": "execute_result"
    }
   ],
   "source": [
    "# This will convert 200 minutes to hours by diving by 60\n",
    "200/60"
   ]
  },
  {
   "cell_type": "markdown",
   "id": "a978a9d8-fe7d-467a-b9b0-9f599dd6d156",
   "metadata": {},
   "source": [
    "**Objectives:**\r\n",
    "\r\n",
    "- List popular languages for Data Science\r\n",
    "- Explain the key data science libraries in Python\r\n",
    "- Demonstrate how to create and manipulate data structures\r\n",
    "- Show examples of evaluating arithmetic expressions in Python\r\n",
    "- Create visualizations using data science libraries\r\n"
   ]
  },
  {
   "cell_type": "markdown",
   "id": "d6347399-7b89-4262-a99b-17975674719f",
   "metadata": {},
   "source": [
    "## Author\r\n",
    "Oscar Santana e\r\n"
   ]
  },
  {
   "cell_type": "code",
   "execution_count": null,
   "id": "33e93643-b0f6-43de-8e62-4437afb78ec5",
   "metadata": {},
   "outputs": [],
   "source": []
  }
 ],
 "metadata": {
  "kernelspec": {
   "display_name": "Python 3 (ipykernel)",
   "language": "python",
   "name": "python3"
  },
  "language_info": {
   "codemirror_mode": {
    "name": "ipython",
    "version": 3
   },
   "file_extension": ".py",
   "mimetype": "text/x-python",
   "name": "python",
   "nbconvert_exporter": "python",
   "pygments_lexer": "ipython3",
   "version": "3.11.7"
  }
 },
 "nbformat": 4,
 "nbformat_minor": 5
}
